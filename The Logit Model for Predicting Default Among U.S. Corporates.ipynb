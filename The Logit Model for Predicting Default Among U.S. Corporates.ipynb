{
 "cells": [
  {
   "cell_type": "code",
   "execution_count": 1,
   "metadata": {},
   "outputs": [],
   "source": [
    "import pandas as pd\n",
    "import numpy as np\n",
    "from sklearn import preprocessing\n",
    "import matplotlib.pyplot as plt \n",
    "plt.rc(\"font\", size=14)\n",
    "from sklearn.linear_model import LogisticRegression\n",
    "from sklearn.model_selection import train_test_split\n",
    "import seaborn as sns\n",
    "sns.set(style=\"white\")\n",
    "sns.set(style=\"whitegrid\", color_codes=True)"
   ]
  },
  {
   "cell_type": "code",
   "execution_count": 2,
   "metadata": {},
   "outputs": [
    {
     "name": "stdout",
     "output_type": "stream",
     "text": [
      "(4000, 8)\n",
      "['Firm ID', 'Year', 'Default', 'WC/TA', 'RE/TA', 'EBIT/TA', 'ME/TL', 'S/TA']\n"
     ]
    }
   ],
   "source": [
    "df = pd.read_csv('USCorporateDefault.csv')\n",
    "df = df.dropna()\n",
    "print(df.shape)\n",
    "print(list(df.columns))"
   ]
  },
  {
   "cell_type": "code",
   "execution_count": 3,
   "metadata": {},
   "outputs": [
    {
     "data": {
      "text/html": [
       "<div>\n",
       "<style scoped>\n",
       "    .dataframe tbody tr th:only-of-type {\n",
       "        vertical-align: middle;\n",
       "    }\n",
       "\n",
       "    .dataframe tbody tr th {\n",
       "        vertical-align: top;\n",
       "    }\n",
       "\n",
       "    .dataframe thead th {\n",
       "        text-align: right;\n",
       "    }\n",
       "</style>\n",
       "<table border=\"1\" class=\"dataframe\">\n",
       "  <thead>\n",
       "    <tr style=\"text-align: right;\">\n",
       "      <th></th>\n",
       "      <th>Firm ID</th>\n",
       "      <th>Year</th>\n",
       "      <th>Default</th>\n",
       "      <th>WC/TA</th>\n",
       "      <th>RE/TA</th>\n",
       "      <th>EBIT/TA</th>\n",
       "      <th>ME/TL</th>\n",
       "      <th>S/TA</th>\n",
       "    </tr>\n",
       "  </thead>\n",
       "  <tbody>\n",
       "    <tr>\n",
       "      <th>0</th>\n",
       "      <td>3723</td>\n",
       "      <td>2012</td>\n",
       "      <td>1</td>\n",
       "      <td>0.24</td>\n",
       "      <td>0.06</td>\n",
       "      <td>0.03</td>\n",
       "      <td>1.83</td>\n",
       "      <td>0.27</td>\n",
       "    </tr>\n",
       "    <tr>\n",
       "      <th>1</th>\n",
       "      <td>1252</td>\n",
       "      <td>2014</td>\n",
       "      <td>0</td>\n",
       "      <td>0.42</td>\n",
       "      <td>-0.06</td>\n",
       "      <td>0.00</td>\n",
       "      <td>1.28</td>\n",
       "      <td>0.18</td>\n",
       "    </tr>\n",
       "    <tr>\n",
       "      <th>2</th>\n",
       "      <td>2188</td>\n",
       "      <td>2020</td>\n",
       "      <td>0</td>\n",
       "      <td>0.34</td>\n",
       "      <td>0.28</td>\n",
       "      <td>0.04</td>\n",
       "      <td>0.27</td>\n",
       "      <td>0.26</td>\n",
       "    </tr>\n",
       "    <tr>\n",
       "      <th>3</th>\n",
       "      <td>514</td>\n",
       "      <td>2014</td>\n",
       "      <td>0</td>\n",
       "      <td>0.09</td>\n",
       "      <td>0.20</td>\n",
       "      <td>0.05</td>\n",
       "      <td>0.94</td>\n",
       "      <td>0.14</td>\n",
       "    </tr>\n",
       "    <tr>\n",
       "      <th>4</th>\n",
       "      <td>3489</td>\n",
       "      <td>2014</td>\n",
       "      <td>0</td>\n",
       "      <td>0.19</td>\n",
       "      <td>-0.11</td>\n",
       "      <td>0.01</td>\n",
       "      <td>0.85</td>\n",
       "      <td>0.08</td>\n",
       "    </tr>\n",
       "  </tbody>\n",
       "</table>\n",
       "</div>"
      ],
      "text/plain": [
       "   Firm ID  Year  Default  WC/TA  RE/TA  EBIT/TA  ME/TL  S/TA\n",
       "0     3723  2012        1   0.24   0.06     0.03   1.83  0.27\n",
       "1     1252  2014        0   0.42  -0.06     0.00   1.28  0.18\n",
       "2     2188  2020        0   0.34   0.28     0.04   0.27  0.26\n",
       "3      514  2014        0   0.09   0.20     0.05   0.94  0.14\n",
       "4     3489  2014        0   0.19  -0.11     0.01   0.85  0.08"
      ]
     },
     "execution_count": 3,
     "metadata": {},
     "output_type": "execute_result"
    }
   ],
   "source": [
    "df.head()"
   ]
  },
  {
   "cell_type": "code",
   "execution_count": 4,
   "metadata": {},
   "outputs": [],
   "source": [
    "df.drop(['Firm ID','Year'], axis=1, inplace=True)"
   ]
  },
  {
   "cell_type": "code",
   "execution_count": 5,
   "metadata": {},
   "outputs": [
    {
     "data": {
      "text/plain": [
       "0    3549\n",
       "1     451\n",
       "Name: Default, dtype: int64"
      ]
     },
     "execution_count": 5,
     "metadata": {},
     "output_type": "execute_result"
    }
   ],
   "source": [
    "df['Default'].value_counts()"
   ]
  },
  {
   "cell_type": "code",
   "execution_count": 6,
   "metadata": {},
   "outputs": [
    {
     "data": {
      "image/png": "[encoded data removed]",
      "text/plain": [
       "<Figure size 432x288 with 1 Axes>"
      ]
     },
     "metadata": {},
     "output_type": "display_data"
    },
    {
     "data": {
      "text/plain": [
       "<Figure size 432x288 with 0 Axes>"
      ]
     },
     "metadata": {},
     "output_type": "display_data"
    }
   ],
   "source": [
    "sns.countplot(x='Default', data=df, palette='hls')\n",
    "plt.show()\n",
    "plt.savefig('count_plot')"
   ]
  },
  {
   "cell_type": "code",
   "execution_count": 7,
   "metadata": {},
   "outputs": [
    {
     "name": "stdout",
     "output_type": "stream",
     "text": [
      "percentage of no default is 88.725\n",
      "percentage of default 11.275\n"
     ]
    }
   ],
   "source": [
    "count_no_default = len(df[df['Default']==0])\n",
    "count_default = len(df[df['Default']==1])\n",
    "pct_of_no_default = count_no_default/(count_no_default+count_default)\n",
    "print(\"percentage of no default is\", pct_of_no_default*100)\n",
    "pct_of_default = count_default/(count_no_default+count_default)\n",
    "print(\"percentage of default\", pct_of_default*100)"
   ]
  },
  {
   "cell_type": "code",
   "execution_count": 8,
   "metadata": {},
   "outputs": [
    {
     "data": {
      "text/html": [
       "<div>\n",
       "<style scoped>\n",
       "    .dataframe tbody tr th:only-of-type {\n",
       "        vertical-align: middle;\n",
       "    }\n",
       "\n",
       "    .dataframe tbody tr th {\n",
       "        vertical-align: top;\n",
       "    }\n",
       "\n",
       "    .dataframe thead th {\n",
       "        text-align: right;\n",
       "    }\n",
       "</style>\n",
       "<table border=\"1\" class=\"dataframe\">\n",
       "  <thead>\n",
       "    <tr style=\"text-align: right;\">\n",
       "      <th></th>\n",
       "      <th>WC/TA</th>\n",
       "      <th>RE/TA</th>\n",
       "      <th>EBIT/TA</th>\n",
       "      <th>ME/TL</th>\n",
       "      <th>S/TA</th>\n",
       "    </tr>\n",
       "    <tr>\n",
       "      <th>Default</th>\n",
       "      <th></th>\n",
       "      <th></th>\n",
       "      <th></th>\n",
       "      <th></th>\n",
       "      <th></th>\n",
       "    </tr>\n",
       "  </thead>\n",
       "  <tbody>\n",
       "    <tr>\n",
       "      <th>0</th>\n",
       "      <td>0.215500</td>\n",
       "      <td>0.100138</td>\n",
       "      <td>0.025365</td>\n",
       "      <td>0.689276</td>\n",
       "      <td>0.208755</td>\n",
       "    </tr>\n",
       "    <tr>\n",
       "      <th>1</th>\n",
       "      <td>0.220443</td>\n",
       "      <td>-0.020710</td>\n",
       "      <td>0.034745</td>\n",
       "      <td>1.597406</td>\n",
       "      <td>0.201441</td>\n",
       "    </tr>\n",
       "  </tbody>\n",
       "</table>\n",
       "</div>"
      ],
      "text/plain": [
       "            WC/TA     RE/TA   EBIT/TA     ME/TL      S/TA\n",
       "Default                                                  \n",
       "0        0.215500  0.100138  0.025365  0.689276  0.208755\n",
       "1        0.220443 -0.020710  0.034745  1.597406  0.201441"
      ]
     },
     "execution_count": 8,
     "metadata": {},
     "output_type": "execute_result"
    }
   ],
   "source": [
    "df.groupby('Default').mean()"
   ]
  },
  {
   "cell_type": "code",
   "execution_count": 9,
   "metadata": {},
   "outputs": [
    {
     "data": {
      "image/png": "[encoded data removed]",
      "text/plain": [
       "<Figure size 432x288 with 1 Axes>"
      ]
     },
     "metadata": {
      "needs_background": "light"
     },
     "output_type": "display_data"
    }
   ],
   "source": [
    "%matplotlib inline\n",
    "df['WC/TA'].hist(color=\"blue\")\n",
    "plt.title('Histogram of WC/TA')\n",
    "plt.xlabel('WC/TA')\n",
    "plt.ylabel('Frequency')\n",
    "plt.savefig('hist_WC_TA')"
   ]
  },
  {
   "cell_type": "code",
   "execution_count": 10,
   "metadata": {},
   "outputs": [
    {
     "data": {
      "text/plain": [
       "count    4000.000000\n",
       "mean        0.216057\n",
       "std         0.186584\n",
       "min        -0.110000\n",
       "25%         0.060000\n",
       "50%         0.210000\n",
       "75%         0.370000\n",
       "max         0.550000\n",
       "Name: WC/TA, dtype: float64"
      ]
     },
     "execution_count": 10,
     "metadata": {},
     "output_type": "execute_result"
    }
   ],
   "source": [
    "df['WC/TA'].describe()"
   ]
  },
  {
   "cell_type": "code",
   "execution_count": 11,
   "metadata": {},
   "outputs": [
    {
     "data": {
      "image/png": "[encoded data removed]",
      "text/plain": [
       "<Figure size 432x288 with 1 Axes>"
      ]
     },
     "metadata": {
      "needs_background": "light"
     },
     "output_type": "display_data"
    }
   ],
   "source": [
    "df['RE/TA'].hist(color=\"red\")\n",
    "plt.title('Histogram of RE/TA')\n",
    "plt.xlabel('RE/TA')\n",
    "plt.ylabel('Frequency')\n",
    "plt.savefig('hist_RE_TA')"
   ]
  },
  {
   "cell_type": "code",
   "execution_count": 12,
   "metadata": {},
   "outputs": [
    {
     "data": {
      "text/plain": [
       "count    4000.000000\n",
       "mean        0.086512\n",
       "std         0.129356\n",
       "min        -0.120000\n",
       "25%        -0.020000\n",
       "50%         0.070000\n",
       "75%         0.200000\n",
       "max         0.320000\n",
       "Name: RE/TA, dtype: float64"
      ]
     },
     "execution_count": 12,
     "metadata": {},
     "output_type": "execute_result"
    }
   ],
   "source": [
    "df['RE/TA'].describe()"
   ]
  },
  {
   "cell_type": "code",
   "execution_count": 13,
   "metadata": {},
   "outputs": [
    {
     "data": {
      "image/png": "[encoded data removed]",
      "text/plain": [
       "<Figure size 432x288 with 1 Axes>"
      ]
     },
     "metadata": {
      "needs_background": "light"
     },
     "output_type": "display_data"
    }
   ],
   "source": [
    "df['EBIT/TA'].hist(color=\"orange\")\n",
    "plt.title('Histogram of EBIT/TA')\n",
    "plt.xlabel('EBIT/TA')\n",
    "plt.ylabel('Frequency')\n",
    "plt.savefig('hist_EBIT_TA')"
   ]
  },
  {
   "cell_type": "code",
   "execution_count": 14,
   "metadata": {},
   "outputs": [
    {
     "data": {
      "text/plain": [
       "count    4000.000000\n",
       "mean        0.026423\n",
       "std         0.016462\n",
       "min         0.000000\n",
       "25%         0.010000\n",
       "50%         0.030000\n",
       "75%         0.040000\n",
       "max         0.050000\n",
       "Name: EBIT/TA, dtype: float64"
      ]
     },
     "execution_count": 14,
     "metadata": {},
     "output_type": "execute_result"
    }
   ],
   "source": [
    "df['EBIT/TA'].describe()"
   ]
  },
  {
   "cell_type": "code",
   "execution_count": 15,
   "metadata": {},
   "outputs": [
    {
     "data": {
      "image/png": "[encoded data removed]",
      "text/plain": [
       "<Figure size 432x288 with 1 Axes>"
      ]
     },
     "metadata": {
      "needs_background": "light"
     },
     "output_type": "display_data"
    }
   ],
   "source": [
    "df['ME/TL'].hist(color=\"green\")\n",
    "plt.title('Histogram of ME/TL')\n",
    "plt.xlabel('ME/TL')\n",
    "plt.ylabel('Frequency')\n",
    "plt.savefig('hist_ME_TL')"
   ]
  },
  {
   "cell_type": "code",
   "execution_count": 16,
   "metadata": {},
   "outputs": [
    {
     "data": {
      "text/plain": [
       "count    4000.000000\n",
       "mean        0.791668\n",
       "std         0.533329\n",
       "min         0.050000\n",
       "25%         0.410000\n",
       "50%         0.730000\n",
       "75%         1.060000\n",
       "max         3.200000\n",
       "Name: ME/TL, dtype: float64"
      ]
     },
     "execution_count": 16,
     "metadata": {},
     "output_type": "execute_result"
    }
   ],
   "source": [
    "df['ME/TL'].describe()"
   ]
  },
  {
   "cell_type": "code",
   "execution_count": 17,
   "metadata": {},
   "outputs": [
    {
     "data": {
      "image/png": "[encoded data removed]",
      "text/plain": [
       "<Figure size 432x288 with 1 Axes>"
      ]
     },
     "metadata": {
      "needs_background": "light"
     },
     "output_type": "display_data"
    }
   ],
   "source": [
    "df['S/TA'].hist(color=\"purple\")\n",
    "plt.title('Histogram of S/TA')\n",
    "plt.xlabel('S/TA')\n",
    "plt.ylabel('Frequency')\n",
    "plt.savefig('hist_S_TA')"
   ]
  },
  {
   "cell_type": "code",
   "execution_count": 18,
   "metadata": {},
   "outputs": [
    {
     "data": {
      "text/plain": [
       "count    4000.000000\n",
       "mean        0.207930\n",
       "std         0.075232\n",
       "min         0.080000\n",
       "25%         0.140000\n",
       "50%         0.210000\n",
       "75%         0.270000\n",
       "max         0.340000\n",
       "Name: S/TA, dtype: float64"
      ]
     },
     "execution_count": 18,
     "metadata": {},
     "output_type": "execute_result"
    }
   ],
   "source": [
    "df['S/TA'].describe()"
   ]
  },
  {
   "cell_type": "code",
   "execution_count": 19,
   "metadata": {},
   "outputs": [
    {
     "name": "stdout",
     "output_type": "stream",
     "text": [
      "length of oversampled data is  4756\n",
      "Number of no default in oversampled data 2378\n",
      "Number of default 2378\n",
      "Proportion of no default data in oversampled data is  0.5\n",
      "Proportion of default data in oversampled data is  0.5\n"
     ]
    }
   ],
   "source": [
    "X = df.loc[:, df.columns != 'Default']\n",
    "y = df.loc[:, df.columns == 'Default']\n",
    "\n",
    "from imblearn.over_sampling import SMOTE\n",
    "os = SMOTE(random_state=0)\n",
    "X_train, X_test, y_train, y_test = train_test_split(X, y, test_size=0.33, random_state=42, stratify=y)\n",
    "columns = X_train.columns\n",
    "os_data_X,os_data_y=os.fit_sample(X_train, y_train)\n",
    "\n",
    "# we can Check the numbers of our data\n",
    "print(\"length of oversampled data is \",len(os_data_X))\n",
    "print(\"Number of no default in oversampled data\",len(os_data_y[os_data_y['Default']==0]))\n",
    "print(\"Number of default\",len(os_data_y[os_data_y['Default']==1]))\n",
    "print(\"Proportion of no default data in oversampled data is \",len(os_data_y[os_data_y['Default']==0])/len(os_data_X))\n",
    "print(\"Proportion of default data in oversampled data is \",len(os_data_y[os_data_y['Default']==1])/len(os_data_X))"
   ]
  },
  {
   "cell_type": "code",
   "execution_count": 20,
   "metadata": {},
   "outputs": [
    {
     "name": "stdout",
     "output_type": "stream",
     "text": [
      "[ True  True  True  True  True]\n",
      "[1 1 1 1 1]\n"
     ]
    },
    {
     "name": "stderr",
     "output_type": "stream",
     "text": [
      "C:\\ProgramData\\Anaconda3\\lib\\site-packages\\sklearn\\utils\\validation.py:70: FutureWarning: Pass n_features_to_select=5 as keyword args. From version 0.25 passing these as positional arguments will result in an error\n",
      "  FutureWarning)\n"
     ]
    }
   ],
   "source": [
    "df_vars = df.columns.values.tolist()\n",
    "y=['Default']\n",
    "X=[i for i in df_vars if i not in y]\n",
    "\n",
    "from sklearn.feature_selection import RFE\n",
    "from sklearn.linear_model import LogisticRegression\n",
    "\n",
    "logreg = LogisticRegression()\n",
    "rfe = RFE(logreg, 5)\n",
    "rfe = rfe.fit(os_data_X, os_data_y.values.ravel())\n",
    "print(rfe.support_)\n",
    "print(rfe.ranking_)"
   ]
  },
  {
   "cell_type": "code",
   "execution_count": 21,
   "metadata": {},
   "outputs": [],
   "source": [
    "cols=['WC/TA', 'RE/TA', 'EBIT/TA', 'ME/TL', 'S/TA'] \n",
    "\n",
    "X=os_data_X[cols]\n",
    "y=os_data_y['Default']"
   ]
  },
  {
   "cell_type": "code",
   "execution_count": 22,
   "metadata": {},
   "outputs": [
    {
     "name": "stdout",
     "output_type": "stream",
     "text": [
      "Optimization terminated successfully.\n",
      "         Current function value: 0.397195\n",
      "         Iterations 7\n",
      "                         Results: Logit\n",
      "================================================================\n",
      "Model:              Logit            Pseudo R-squared: 0.427    \n",
      "Dependent Variable: Default          AIC:              3788.1176\n",
      "Date:               2022-02-01 01:27 BIC:              3820.4534\n",
      "No. Observations:   4756             Log-Likelihood:   -1889.1  \n",
      "Df Model:           4                LL-Null:          -3296.6  \n",
      "Df Residuals:       4751             LLR p-value:      0.0000   \n",
      "Converged:          1.0000           Scale:            1.0000   \n",
      "No. Iterations:     7.0000                                      \n",
      "-----------------------------------------------------------------\n",
      "          Coef.    Std.Err.     z      P>|z|    [0.025    0.975] \n",
      "-----------------------------------------------------------------\n",
      "WC/TA     -1.1173    0.2663   -4.1951  0.0000   -1.6393   -0.5953\n",
      "RE/TA    -13.0087    0.5001  -26.0104  0.0000  -13.9889  -12.0284\n",
      "EBIT/TA   35.3289    2.9252   12.0774  0.0000   29.5956   41.0622\n",
      "ME/TL      1.5135    0.0644   23.5027  0.0000    1.3873    1.6398\n",
      "S/TA      -9.7547    0.5012  -19.4637  0.0000  -10.7370   -8.7724\n",
      "================================================================\n",
      "\n"
     ]
    }
   ],
   "source": [
    "import statsmodels.api as sm\n",
    "\n",
    "logit_model=sm.Logit(y,X)\n",
    "result=logit_model.fit()\n",
    "print(result.summary2())"
   ]
  },
  {
   "cell_type": "code",
   "execution_count": 23,
   "metadata": {},
   "outputs": [
    {
     "name": "stdout",
     "output_type": "stream",
     "text": [
      "Optimization terminated successfully.\n",
      "         Current function value: 0.397195\n",
      "         Iterations 7\n",
      "                           Logit Regression Results                           \n",
      "==============================================================================\n",
      "Dep. Variable:                Default   No. Observations:                 4756\n",
      "Model:                          Logit   Df Residuals:                     4751\n",
      "Method:                           MLE   Df Model:                            4\n",
      "Date:                Tue, 01 Feb 2022   Pseudo R-squ.:                  0.4270\n",
      "Time:                        01:27:09   Log-Likelihood:                -1889.1\n",
      "converged:                       True   LL-Null:                       -3296.6\n",
      "Covariance Type:            nonrobust   LLR p-value:                     0.000\n",
      "==============================================================================\n",
      "                 coef    std err          z      P>|z|      [0.025      0.975]\n",
      "------------------------------------------------------------------------------\n",
      "WC/TA         -1.1173      0.266     -4.195      0.000      -1.639      -0.595\n",
      "RE/TA        -13.0087      0.500    -26.010      0.000     -13.989     -12.028\n",
      "EBIT/TA       35.3289      2.925     12.077      0.000      29.596      41.062\n",
      "ME/TL          1.5135      0.064     23.503      0.000       1.387       1.640\n",
      "S/TA          -9.7547      0.501    -19.464      0.000     -10.737      -8.772\n",
      "==============================================================================\n"
     ]
    }
   ],
   "source": [
    "logit_model=sm.Logit(y,X)\n",
    "result=logit_model.fit()\n",
    "print(result.summary())"
   ]
  },
  {
   "cell_type": "code",
   "execution_count": 24,
   "metadata": {},
   "outputs": [
    {
     "name": "stdout",
     "output_type": "stream",
     "text": [
      "Optimization terminated successfully.\n",
      "         Current function value: 0.395626\n",
      "         Iterations 7\n",
      "Optimization terminated successfully.\n",
      "         Current function value: 0.395626\n",
      "         Iterations 7\n",
      "                           Logit Regression Results                           \n",
      "==============================================================================\n",
      "Dep. Variable:                Default   No. Observations:                 3186\n",
      "Model:                          Logit   Df Residuals:                     3181\n",
      "Method:                           MLE   Df Model:                            4\n",
      "Date:                Tue, 01 Feb 2022   Pseudo R-squ.:                  0.4292\n",
      "Time:                        01:27:09   Log-Likelihood:                -1260.5\n",
      "converged:                       True   LL-Null:                       -2208.4\n",
      "Covariance Type:            nonrobust   LLR p-value:                     0.000\n",
      "==============================================================================\n",
      "                 coef    std err          z      P>|z|      [0.025      0.975]\n",
      "------------------------------------------------------------------------------\n",
      "WC/TA         -1.4552      0.331     -4.393      0.000      -2.104      -0.806\n",
      "RE/TA        -13.0002      0.613    -21.224      0.000     -14.201     -11.800\n",
      "EBIT/TA       35.3806      3.551      9.963      0.000      28.420      42.341\n",
      "ME/TL          1.5414      0.080     19.273      0.000       1.385       1.698\n",
      "S/TA          -9.4352      0.605    -15.593      0.000     -10.621      -8.249\n",
      "==============================================================================\n"
     ]
    }
   ],
   "source": [
    "from sklearn import metrics\n",
    "\n",
    "X_train, X_test, y_train, y_test = train_test_split(X, y, test_size=0.33, random_state=42, stratify=y)\n",
    "logit=sm.Logit(y_train,X_train)\n",
    "logit.fit()\n",
    "print(logit.fit().summary())"
   ]
  },
  {
   "cell_type": "code",
   "execution_count": 25,
   "metadata": {},
   "outputs": [
    {
     "name": "stdout",
     "output_type": "stream",
     "text": [
      "Optimization terminated successfully.\n",
      "         Current function value: 0.395626\n",
      "         Iterations 7\n"
     ]
    },
    {
     "data": {
      "text/html": [
       "<div>\n",
       "<style scoped>\n",
       "    .dataframe tbody tr th:only-of-type {\n",
       "        vertical-align: middle;\n",
       "    }\n",
       "\n",
       "    .dataframe tbody tr th {\n",
       "        vertical-align: top;\n",
       "    }\n",
       "\n",
       "    .dataframe thead th {\n",
       "        text-align: right;\n",
       "    }\n",
       "</style>\n",
       "<table border=\"1\" class=\"dataframe\">\n",
       "  <thead>\n",
       "    <tr style=\"text-align: right;\">\n",
       "      <th></th>\n",
       "      <th>coef</th>\n",
       "    </tr>\n",
       "  </thead>\n",
       "  <tbody>\n",
       "    <tr>\n",
       "      <th>WC/TA</th>\n",
       "      <td>-1.455245</td>\n",
       "    </tr>\n",
       "    <tr>\n",
       "      <th>RE/TA</th>\n",
       "      <td>-13.000206</td>\n",
       "    </tr>\n",
       "    <tr>\n",
       "      <th>EBIT/TA</th>\n",
       "      <td>35.380564</td>\n",
       "    </tr>\n",
       "    <tr>\n",
       "      <th>ME/TL</th>\n",
       "      <td>1.541403</td>\n",
       "    </tr>\n",
       "    <tr>\n",
       "      <th>S/TA</th>\n",
       "      <td>-9.435201</td>\n",
       "    </tr>\n",
       "  </tbody>\n",
       "</table>\n",
       "</div>"
      ],
      "text/plain": [
       "              coef\n",
       "WC/TA    -1.455245\n",
       "RE/TA   -13.000206\n",
       "EBIT/TA  35.380564\n",
       "ME/TL     1.541403\n",
       "S/TA     -9.435201"
      ]
     },
     "execution_count": 25,
     "metadata": {},
     "output_type": "execute_result"
    }
   ],
   "source": [
    "params = pd.DataFrame(logit.fit().params,columns={'coef'},)\n",
    "params"
   ]
  },
  {
   "cell_type": "code",
   "execution_count": 26,
   "metadata": {},
   "outputs": [
    {
     "name": "stderr",
     "output_type": "stream",
     "text": [
      "C:\\ProgramData\\Anaconda3\\lib\\site-packages\\ipykernel_launcher.py:2: SettingWithCopyWarning: \n",
      "A value is trying to be set on a copy of a slice from a DataFrame.\n",
      "Try using .loc[row_indexer,col_indexer] = value instead\n",
      "\n",
      "See the caveats in the documentation: https://pandas.pydata.org/pandas-docs/stable/user_guide/indexing.html#returning-a-view-versus-a-copy\n",
      "  \n"
     ]
    },
    {
     "data": {
      "text/html": [
       "<div>\n",
       "<style scoped>\n",
       "    .dataframe tbody tr th:only-of-type {\n",
       "        vertical-align: middle;\n",
       "    }\n",
       "\n",
       "    .dataframe tbody tr th {\n",
       "        vertical-align: top;\n",
       "    }\n",
       "\n",
       "    .dataframe thead th {\n",
       "        text-align: right;\n",
       "    }\n",
       "</style>\n",
       "<table border=\"1\" class=\"dataframe\">\n",
       "  <thead>\n",
       "    <tr style=\"text-align: right;\">\n",
       "      <th></th>\n",
       "      <th>WC/TA</th>\n",
       "      <th>RE/TA</th>\n",
       "      <th>EBIT/TA</th>\n",
       "      <th>ME/TL</th>\n",
       "      <th>S/TA</th>\n",
       "      <th>y_pred</th>\n",
       "    </tr>\n",
       "  </thead>\n",
       "  <tbody>\n",
       "    <tr>\n",
       "      <th>3081</th>\n",
       "      <td>0.309643</td>\n",
       "      <td>-0.031707</td>\n",
       "      <td>0.040000</td>\n",
       "      <td>1.313452</td>\n",
       "      <td>0.246548</td>\n",
       "      <td>1.075145</td>\n",
       "    </tr>\n",
       "    <tr>\n",
       "      <th>2458</th>\n",
       "      <td>0.310000</td>\n",
       "      <td>-0.110000</td>\n",
       "      <td>0.040000</td>\n",
       "      <td>0.180000</td>\n",
       "      <td>0.260000</td>\n",
       "      <td>0.218419</td>\n",
       "    </tr>\n",
       "    <tr>\n",
       "      <th>1877</th>\n",
       "      <td>0.300000</td>\n",
       "      <td>-0.080000</td>\n",
       "      <td>0.030000</td>\n",
       "      <td>2.720000</td>\n",
       "      <td>0.210000</td>\n",
       "      <td>3.876083</td>\n",
       "    </tr>\n",
       "    <tr>\n",
       "      <th>3870</th>\n",
       "      <td>0.080000</td>\n",
       "      <td>0.016816</td>\n",
       "      <td>0.036136</td>\n",
       "      <td>2.636816</td>\n",
       "      <td>0.179320</td>\n",
       "      <td>3.315956</td>\n",
       "    </tr>\n",
       "    <tr>\n",
       "      <th>2523</th>\n",
       "      <td>0.170000</td>\n",
       "      <td>-0.060000</td>\n",
       "      <td>0.030000</td>\n",
       "      <td>0.390000</td>\n",
       "      <td>0.260000</td>\n",
       "      <td>-0.257968</td>\n",
       "    </tr>\n",
       "    <tr>\n",
       "      <th>...</th>\n",
       "      <td>...</td>\n",
       "      <td>...</td>\n",
       "      <td>...</td>\n",
       "      <td>...</td>\n",
       "      <td>...</td>\n",
       "      <td>...</td>\n",
       "    </tr>\n",
       "    <tr>\n",
       "      <th>2599</th>\n",
       "      <td>0.180000</td>\n",
       "      <td>0.180000</td>\n",
       "      <td>0.040000</td>\n",
       "      <td>0.810000</td>\n",
       "      <td>0.080000</td>\n",
       "      <td>-0.693038</td>\n",
       "    </tr>\n",
       "    <tr>\n",
       "      <th>4634</th>\n",
       "      <td>0.135899</td>\n",
       "      <td>-0.029342</td>\n",
       "      <td>0.033443</td>\n",
       "      <td>0.726228</td>\n",
       "      <td>0.236557</td>\n",
       "      <td>0.254363</td>\n",
       "    </tr>\n",
       "    <tr>\n",
       "      <th>4501</th>\n",
       "      <td>0.330353</td>\n",
       "      <td>0.040000</td>\n",
       "      <td>0.040000</td>\n",
       "      <td>0.613929</td>\n",
       "      <td>0.129824</td>\n",
       "      <td>0.135870</td>\n",
       "    </tr>\n",
       "    <tr>\n",
       "      <th>2760</th>\n",
       "      <td>0.216179</td>\n",
       "      <td>0.053090</td>\n",
       "      <td>0.030000</td>\n",
       "      <td>0.513455</td>\n",
       "      <td>0.178007</td>\n",
       "      <td>-0.831441</td>\n",
       "    </tr>\n",
       "    <tr>\n",
       "      <th>2292</th>\n",
       "      <td>0.020000</td>\n",
       "      <td>0.100000</td>\n",
       "      <td>0.040000</td>\n",
       "      <td>0.640000</td>\n",
       "      <td>0.300000</td>\n",
       "      <td>-1.757966</td>\n",
       "    </tr>\n",
       "  </tbody>\n",
       "</table>\n",
       "<p>1570 rows × 6 columns</p>\n",
       "</div>"
      ],
      "text/plain": [
       "         WC/TA     RE/TA   EBIT/TA     ME/TL      S/TA    y_pred\n",
       "3081  0.309643 -0.031707  0.040000  1.313452  0.246548  1.075145\n",
       "2458  0.310000 -0.110000  0.040000  0.180000  0.260000  0.218419\n",
       "1877  0.300000 -0.080000  0.030000  2.720000  0.210000  3.876083\n",
       "3870  0.080000  0.016816  0.036136  2.636816  0.179320  3.315956\n",
       "2523  0.170000 -0.060000  0.030000  0.390000  0.260000 -0.257968\n",
       "...        ...       ...       ...       ...       ...       ...\n",
       "2599  0.180000  0.180000  0.040000  0.810000  0.080000 -0.693038\n",
       "4634  0.135899 -0.029342  0.033443  0.726228  0.236557  0.254363\n",
       "4501  0.330353  0.040000  0.040000  0.613929  0.129824  0.135870\n",
       "2760  0.216179  0.053090  0.030000  0.513455  0.178007 -0.831441\n",
       "2292  0.020000  0.100000  0.040000  0.640000  0.300000 -1.757966\n",
       "\n",
       "[1570 rows x 6 columns]"
      ]
     },
     "execution_count": 26,
     "metadata": {},
     "output_type": "execute_result"
    }
   ],
   "source": [
    "result1 = X_test\n",
    "result1['y_pred'] = result1['WC/TA'] * params['coef'][0] + result1['RE/TA'] * params['coef'][1] + result1['EBIT/TA'] * params['coef'][2] + result1['ME/TL'] * params['coef'][3] + result1['S/TA'] * params['coef'][4]\n",
    "result1"
   ]
  },
  {
   "cell_type": "code",
   "execution_count": 27,
   "metadata": {},
   "outputs": [
    {
     "name": "stderr",
     "output_type": "stream",
     "text": [
      "C:\\ProgramData\\Anaconda3\\lib\\site-packages\\ipykernel_launcher.py:1: SettingWithCopyWarning: \n",
      "A value is trying to be set on a copy of a slice from a DataFrame.\n",
      "Try using .loc[row_indexer,col_indexer] = value instead\n",
      "\n",
      "See the caveats in the documentation: https://pandas.pydata.org/pandas-docs/stable/user_guide/indexing.html#returning-a-view-versus-a-copy\n",
      "  \"\"\"Entry point for launching an IPython kernel.\n"
     ]
    },
    {
     "data": {
      "text/html": [
       "<div>\n",
       "<style scoped>\n",
       "    .dataframe tbody tr th:only-of-type {\n",
       "        vertical-align: middle;\n",
       "    }\n",
       "\n",
       "    .dataframe tbody tr th {\n",
       "        vertical-align: top;\n",
       "    }\n",
       "\n",
       "    .dataframe thead th {\n",
       "        text-align: right;\n",
       "    }\n",
       "</style>\n",
       "<table border=\"1\" class=\"dataframe\">\n",
       "  <thead>\n",
       "    <tr style=\"text-align: right;\">\n",
       "      <th></th>\n",
       "      <th>WC/TA</th>\n",
       "      <th>RE/TA</th>\n",
       "      <th>EBIT/TA</th>\n",
       "      <th>ME/TL</th>\n",
       "      <th>S/TA</th>\n",
       "      <th>y_pred</th>\n",
       "      <th>y_pred_Logit</th>\n",
       "    </tr>\n",
       "  </thead>\n",
       "  <tbody>\n",
       "    <tr>\n",
       "      <th>3081</th>\n",
       "      <td>0.309643</td>\n",
       "      <td>-0.031707</td>\n",
       "      <td>0.040000</td>\n",
       "      <td>1.313452</td>\n",
       "      <td>0.246548</td>\n",
       "      <td>1.075145</td>\n",
       "      <td>0.745574</td>\n",
       "    </tr>\n",
       "    <tr>\n",
       "      <th>2458</th>\n",
       "      <td>0.310000</td>\n",
       "      <td>-0.110000</td>\n",
       "      <td>0.040000</td>\n",
       "      <td>0.180000</td>\n",
       "      <td>0.260000</td>\n",
       "      <td>0.218419</td>\n",
       "      <td>0.554389</td>\n",
       "    </tr>\n",
       "    <tr>\n",
       "      <th>1877</th>\n",
       "      <td>0.300000</td>\n",
       "      <td>-0.080000</td>\n",
       "      <td>0.030000</td>\n",
       "      <td>2.720000</td>\n",
       "      <td>0.210000</td>\n",
       "      <td>3.876083</td>\n",
       "      <td>0.979689</td>\n",
       "    </tr>\n",
       "    <tr>\n",
       "      <th>3870</th>\n",
       "      <td>0.080000</td>\n",
       "      <td>0.016816</td>\n",
       "      <td>0.036136</td>\n",
       "      <td>2.636816</td>\n",
       "      <td>0.179320</td>\n",
       "      <td>3.315956</td>\n",
       "      <td>0.964972</td>\n",
       "    </tr>\n",
       "    <tr>\n",
       "      <th>2523</th>\n",
       "      <td>0.170000</td>\n",
       "      <td>-0.060000</td>\n",
       "      <td>0.030000</td>\n",
       "      <td>0.390000</td>\n",
       "      <td>0.260000</td>\n",
       "      <td>-0.257968</td>\n",
       "      <td>0.435863</td>\n",
       "    </tr>\n",
       "    <tr>\n",
       "      <th>...</th>\n",
       "      <td>...</td>\n",
       "      <td>...</td>\n",
       "      <td>...</td>\n",
       "      <td>...</td>\n",
       "      <td>...</td>\n",
       "      <td>...</td>\n",
       "      <td>...</td>\n",
       "    </tr>\n",
       "    <tr>\n",
       "      <th>2599</th>\n",
       "      <td>0.180000</td>\n",
       "      <td>0.180000</td>\n",
       "      <td>0.040000</td>\n",
       "      <td>0.810000</td>\n",
       "      <td>0.080000</td>\n",
       "      <td>-0.693038</td>\n",
       "      <td>0.333357</td>\n",
       "    </tr>\n",
       "    <tr>\n",
       "      <th>4634</th>\n",
       "      <td>0.135899</td>\n",
       "      <td>-0.029342</td>\n",
       "      <td>0.033443</td>\n",
       "      <td>0.726228</td>\n",
       "      <td>0.236557</td>\n",
       "      <td>0.254363</td>\n",
       "      <td>0.563250</td>\n",
       "    </tr>\n",
       "    <tr>\n",
       "      <th>4501</th>\n",
       "      <td>0.330353</td>\n",
       "      <td>0.040000</td>\n",
       "      <td>0.040000</td>\n",
       "      <td>0.613929</td>\n",
       "      <td>0.129824</td>\n",
       "      <td>0.135870</td>\n",
       "      <td>0.533915</td>\n",
       "    </tr>\n",
       "    <tr>\n",
       "      <th>2760</th>\n",
       "      <td>0.216179</td>\n",
       "      <td>0.053090</td>\n",
       "      <td>0.030000</td>\n",
       "      <td>0.513455</td>\n",
       "      <td>0.178007</td>\n",
       "      <td>-0.831441</td>\n",
       "      <td>0.303340</td>\n",
       "    </tr>\n",
       "    <tr>\n",
       "      <th>2292</th>\n",
       "      <td>0.020000</td>\n",
       "      <td>0.100000</td>\n",
       "      <td>0.040000</td>\n",
       "      <td>0.640000</td>\n",
       "      <td>0.300000</td>\n",
       "      <td>-1.757966</td>\n",
       "      <td>0.147045</td>\n",
       "    </tr>\n",
       "  </tbody>\n",
       "</table>\n",
       "<p>1570 rows × 7 columns</p>\n",
       "</div>"
      ],
      "text/plain": [
       "         WC/TA     RE/TA   EBIT/TA     ME/TL      S/TA    y_pred  y_pred_Logit\n",
       "3081  0.309643 -0.031707  0.040000  1.313452  0.246548  1.075145      0.745574\n",
       "2458  0.310000 -0.110000  0.040000  0.180000  0.260000  0.218419      0.554389\n",
       "1877  0.300000 -0.080000  0.030000  2.720000  0.210000  3.876083      0.979689\n",
       "3870  0.080000  0.016816  0.036136  2.636816  0.179320  3.315956      0.964972\n",
       "2523  0.170000 -0.060000  0.030000  0.390000  0.260000 -0.257968      0.435863\n",
       "...        ...       ...       ...       ...       ...       ...           ...\n",
       "2599  0.180000  0.180000  0.040000  0.810000  0.080000 -0.693038      0.333357\n",
       "4634  0.135899 -0.029342  0.033443  0.726228  0.236557  0.254363      0.563250\n",
       "4501  0.330353  0.040000  0.040000  0.613929  0.129824  0.135870      0.533915\n",
       "2760  0.216179  0.053090  0.030000  0.513455  0.178007 -0.831441      0.303340\n",
       "2292  0.020000  0.100000  0.040000  0.640000  0.300000 -1.757966      0.147045\n",
       "\n",
       "[1570 rows x 7 columns]"
      ]
     },
     "execution_count": 27,
     "metadata": {},
     "output_type": "execute_result"
    }
   ],
   "source": [
    "result1['y_pred_Logit'] = 1 / (1 + np.exp(-result1['y_pred']))\n",
    "result1"
   ]
  },
  {
   "cell_type": "code",
   "execution_count": 28,
   "metadata": {},
   "outputs": [
    {
     "data": {
      "text/plain": [
       "array([1, 1, 1, ..., 1, 0, 0], dtype=int64)"
      ]
     },
     "execution_count": 28,
     "metadata": {},
     "output_type": "execute_result"
    }
   ],
   "source": [
    "d = {'y_pred_proba': result1['y_pred_Logit']}\n",
    "df23 = pd.DataFrame(data=d)\n",
    "df23 = df23.reset_index()\n",
    "df23.drop(['index'], axis=1, inplace=True)\n",
    "\n",
    "df23['y_pred'] = 0.000\n",
    "for i in range(0,len(df23['y_pred_proba'])):\n",
    "    if df23['y_pred_proba'][i] > 0.500:\n",
    "        df23['y_pred'][i] = 1.000\n",
    "    else: \n",
    "        df23['y_pred'][i] = 0.000\n",
    "        \n",
    "y_pred = np.array(df23['y_pred'])\n",
    "y_pred = y_pred.astype('int64')\n",
    "y_pred"
   ]
  },
  {
   "cell_type": "code",
   "execution_count": 29,
   "metadata": {},
   "outputs": [
    {
     "name": "stdout",
     "output_type": "stream",
     "text": [
      "Accuracy of Logit Model on test set: 0.80\n"
     ]
    }
   ],
   "source": [
    "from sklearn.metrics import accuracy_score\n",
    "\n",
    "print('Accuracy of Logit Model on test set: {:.2f}'.format(accuracy_score(y_test, y_pred)))"
   ]
  },
  {
   "cell_type": "code",
   "execution_count": 30,
   "metadata": {},
   "outputs": [
    {
     "name": "stdout",
     "output_type": "stream",
     "text": [
      "[[598 187]\n",
      " [120 665]]\n"
     ]
    }
   ],
   "source": [
    "from sklearn.metrics import confusion_matrix\n",
    "confusion_matrix = confusion_matrix(y_test, y_pred)\n",
    "print(confusion_matrix)"
   ]
  },
  {
   "cell_type": "code",
   "execution_count": 31,
   "metadata": {},
   "outputs": [
    {
     "name": "stdout",
     "output_type": "stream",
     "text": [
      "              precision    recall  f1-score   support\n",
      "\n",
      "           0       0.83      0.76      0.80       785\n",
      "           1       0.78      0.85      0.81       785\n",
      "\n",
      "    accuracy                           0.80      1570\n",
      "   macro avg       0.81      0.80      0.80      1570\n",
      "weighted avg       0.81      0.80      0.80      1570\n",
      "\n"
     ]
    }
   ],
   "source": [
    "from sklearn.metrics import classification_report\n",
    "print(classification_report(y_test, y_pred))"
   ]
  },
  {
   "cell_type": "code",
   "execution_count": 32,
   "metadata": {},
   "outputs": [
    {
     "data": {
      "text/plain": [
       "array([0.7455742 , 0.55438882, 0.97968921, ..., 0.5339154 , 0.30334048,\n",
       "       0.14704532])"
      ]
     },
     "execution_count": 32,
     "metadata": {},
     "output_type": "execute_result"
    }
   ],
   "source": [
    "y_pred_proba = np.array(df23['y_pred_proba'])\n",
    "y_pred_proba "
   ]
  },
  {
   "cell_type": "code",
   "execution_count": 33,
   "metadata": {},
   "outputs": [
    {
     "data": {
      "image/png": "[encoded data removed]",
      "text/plain": [
       "<Figure size 432x288 with 1 Axes>"
      ]
     },
     "metadata": {
      "needs_background": "light"
     },
     "output_type": "display_data"
    }
   ],
   "source": [
    "from sklearn.metrics import roc_auc_score\n",
    "from sklearn.metrics import roc_curve\n",
    "\n",
    "logit_roc_auc = roc_auc_score(y_test, y_pred)\n",
    "fpr, tpr, thresholds = roc_curve(y_test, y_pred_proba)\n",
    "\n",
    "plt.figure()\n",
    "plt.plot(fpr, tpr, label='Logit Model (area = %0.2f)' % logit_roc_auc)\n",
    "plt.plot([0, 1], [0, 1],'r--')\n",
    "plt.xlim([0.0, 1.0])\n",
    "plt.ylim([0.0, 1.05])\n",
    "plt.xlabel('False Positive Rate')\n",
    "plt.ylabel('True Positive Rate')\n",
    "plt.title('Receiver operating characteristic')\n",
    "plt.legend(loc=\"lower right\")\n",
    "plt.savefig('Logit_ROC')\n",
    "plt.show()"
   ]
  }
 ],
 "metadata": {
  "kernelspec": {
   "display_name": "Python 3",
   "language": "python",
   "name": "python3"
  },
  "language_info": {
   "codemirror_mode": {
    "name": "ipython",
    "version": 3
   },
   "file_extension": ".py",
   "mimetype": "text/x-python",
   "name": "python",
   "nbconvert_exporter": "python",
   "pygments_lexer": "ipython3",
   "version": "3.7.4"
  }
 },
 "nbformat": 4,
 "nbformat_minor": 4
}
